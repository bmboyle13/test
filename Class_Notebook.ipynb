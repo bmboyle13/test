{
 "cells": [
  {
   "cell_type": "markdown",
   "id": "4ef4485e",
   "metadata": {},
   "source": [
    "# Ch9 Classes"
   ]
  },
  {
   "cell_type": "markdown",
   "id": "7b465366",
   "metadata": {},
   "source": [
    "### Python is an object oriented programming language.\n",
    "- Almost everything in Python is an object, with its properties and methods (Functions).\n",
    "- A Class is like an object constructor, or a \"blueprint\" for creating objects."
   ]
  },
  {
   "cell_type": "code",
   "execution_count": 13,
   "id": "a9136cf8",
   "metadata": {},
   "outputs": [
    {
     "name": "stdout",
     "output_type": "stream",
     "text": [
      "The email of first employee: angy.hill@company.com\n",
      "First name of employee1 Angy\n",
      "Last name of employee1 Hill\n",
      "Age of employee2 35\n",
      "email of employee2 peter.white@company.com\n",
      "The full name : Angy Hill\n",
      "The full name : Peter White\n"
     ]
    }
   ],
   "source": [
    "class Employee(): #name of the class\n",
    "    \n",
    "#init is the constructor of the class. It is mandatory for a class construction   \n",
    "#self is used to represent the instance of the class    \n",
    "    def __init__(self,first,last,age,dept): \n",
    "        #method/function\n",
    "        self.first=first.title()\n",
    "        self.last=last.title()\n",
    "        self.age=age\n",
    "        self.dept=dept.title()\n",
    "        self.email=first.lower()+\".\"+last.lower()+\"@company.com\"\n",
    "   # Creating a method called fullname. It needs only the instance\n",
    "    \n",
    "    ######\n",
    "    \n",
    "    def fullname(self):\n",
    "        print(f\"The full name : {self.first} {self.last}\")\n",
    "        \n",
    "#init will run automatically when you call the class        \n",
    "emp_1=Employee(\"angy\", \"hill\",25, \"accounting\")\n",
    "emp_2=Employee(\"PETER\", \"WHITE\", 35, \"finance\")\n",
    "\n",
    "print(f\"The email of first employee: {emp_1.email}\")\n",
    "print(f\"First name of employee1 {emp_1.first}\")\n",
    "print(f\"Last name of employee1 {emp_1.last}\")\n",
    "print(f\"Age of employee2 {emp_2.age}\")\n",
    "print(f\"email of employee2 {emp_2.email}\")\n",
    "#print(f\"Full name of employee1 {emp_1.first} {emp_1.last}\")\n",
    "#print(f\"Full name of employee2 {emp_2.first} {emp_2.last}\")        \n",
    "emp_1.fullname()  \n",
    "emp_2.fullname()"
   ]
  },
  {
   "cell_type": "code",
   "execution_count": null,
   "id": "4d6af80e",
   "metadata": {},
   "outputs": [],
   "source": []
  },
  {
   "cell_type": "markdown",
   "id": "5d60f7c0",
   "metadata": {},
   "source": [
    "### Creating the Dog Class\n",
    "Each instance created from the Dog class will store a name and an age, and we’ll give each dog the ability to sit() and roll_over():"
   ]
  },
  {
   "cell_type": "code",
   "execution_count": 15,
   "id": "1a9cc358",
   "metadata": {},
   "outputs": [
    {
     "name": "stdout",
     "output_type": "stream",
     "text": [
      "Shelly\n",
      "4\n",
      "Shelly is now sitting\n",
      "Shelly is rolled over\n",
      "Penny is now sitting\n",
      "Penny is rolled over\n",
      "Penny shaked a random person\n",
      "Penny is barking to a stanger\n",
      "Penny is now down\n",
      "Penny is now sitting\n"
     ]
    }
   ],
   "source": [
    "class Dog():\n",
    "    def __init__(self,name,age):\n",
    "        self.name=name.title()\n",
    "        self.age=age\n",
    "        \n",
    "    def sit(self):\n",
    "        print(f\"{self.name} is now sitting\")\n",
    "        \n",
    "    def roll_over(self):\n",
    "        print(f\"{self.name} is rolled over\")\n",
    "    \n",
    "    def shake(self):\n",
    "        print(f\"{self.name} shaked a random person\")\n",
    "    def bark(self):\n",
    "        print(f\"{self.name} is barking to a stanger\")\n",
    "    def down(self):\n",
    "        print(f\"{self.name} is now down\")\n",
    "\n",
    "dog1=Dog(\"Shelly\",4)\n",
    "print(dog1.name)\n",
    "print(dog1.age)\n",
    "dog1.sit()\n",
    "dog1.roll_over()\n",
    "dog2=Dog(\"Penny\",1)\n",
    "dog2.sit()\n",
    "dog2.roll_over()\n",
    "dog2.shake()\n",
    "dog2.bark()\n",
    "dog2.down()\n",
    "dog2.sit()"
   ]
  },
  {
   "cell_type": "code",
   "execution_count": null,
   "id": "1c65ad81",
   "metadata": {},
   "outputs": [],
   "source": []
  },
  {
   "cell_type": "code",
   "execution_count": null,
   "id": "3166fc9d",
   "metadata": {},
   "outputs": [],
   "source": []
  },
  {
   "cell_type": "markdown",
   "id": "8bbcc5c0",
   "metadata": {},
   "source": [
    "#### Note:\n",
    "- By convention, capitalized names refer to classes in Python. \n",
    "- The parentheses in the class definition are empty because we’re creating this class from scratch.\n",
    "- All classes have a function called __init__(), which is always executed when the class is being initiated.\n",
    "- Use the __init__() function to assign values to object properties, or other operations that are necessary to do when the object is being created\n",
    "- Any variable prefixed with `self` is available to every method in the class, and we’ll also be able to access these variables through any instance created from the class.\n",
    "- The Dog class has two other methods defined: sit() and roll_over().Because these methods don’t need additional information like a name or age, we just define them to have one parameter, self."
   ]
  },
  {
   "cell_type": "markdown",
   "id": "402f0696",
   "metadata": {},
   "source": [
    "### Restaurant: Make a class called Restaurant. The __init__() method for Restaurant should store two attributes: a restaurant_name and a cuisine_type.\n",
    "- Make a method called `describe_restaurant()` that prints name of teh restrurent and the cuisine type\n",
    "- and a method called open_restaurant() that prints a message indicating that the restaurant is open.\n",
    "- Make an instance called restaurant from your class. Print the two attributes individually, and then call both methods.\n"
   ]
  },
  {
   "cell_type": "code",
   "execution_count": 5,
   "id": "f8207bfb",
   "metadata": {},
   "outputs": [
    {
     "name": "stdout",
     "output_type": "stream",
     "text": [
      "Restrurent name: The Mean Queen\n",
      "Cuisine type: pizza\n",
      "The Mean Queen serves wonderful pizza.\n",
      "The Mean Queen is open. Come on in!\n"
     ]
    }
   ],
   "source": [
    "class Restrurent():\n",
    "    \n",
    "    def __init__(self,name,cuisine_type):\n",
    "        self.name=name.title()\n",
    "        self.cuisine_type=cuisine_type\n",
    "        \n",
    "    def describe_restrurent(self):\n",
    "        print(f\"{self.name} serves wonderful {self.cuisine_type}.\")\n",
    "        \n",
    "    def open_restrurent(self):\n",
    "        print(f\"{self.name} is open. Come on in!\")\n",
    "        \n",
    "restrurent1=Restrurent(\"The mean Queen\", \"pizza\")\n",
    "print(f\"Restrurent name: {restrurent1.name}\")\n",
    "print(f\"Cuisine type: {restrurent1.cuisine_type}\")\n",
    "restrurent1.describe_restrurent()\n",
    "restrurent1.open_restrurent()"
   ]
  },
  {
   "cell_type": "markdown",
   "id": "8b4a4fca",
   "metadata": {},
   "source": [
    "### - Create three different instances from the class, and call describe_restaurant() for each instance."
   ]
  },
  {
   "cell_type": "code",
   "execution_count": 6,
   "id": "e6aa8a33",
   "metadata": {},
   "outputs": [
    {
     "name": "stdout",
     "output_type": "stream",
     "text": [
      "The Mean Queen serves wonderful pizza.\n",
      "Royals Hot Chicken serves wonderful Hot Chicken.\n",
      "Thai Place serves wonderful Red curry.\n"
     ]
    }
   ],
   "source": [
    "restrurent1=Restrurent(\"The mean Queen\", \"pizza\")\n",
    "restrurent2=Restrurent(\"Royals Hot Chicken\", \"Hot Chicken\")\n",
    "restrurent3=Restrurent(\"Thai Place\", \"Red curry\")\n",
    "restrurent1.describe_restrurent()\n",
    "restrurent2.describe_restrurent()\n",
    "restrurent3.describe_restrurent()"
   ]
  },
  {
   "cell_type": "code",
   "execution_count": null,
   "id": "6b24e6f1",
   "metadata": {},
   "outputs": [],
   "source": []
  },
  {
   "cell_type": "markdown",
   "id": "8f4032c6",
   "metadata": {},
   "source": [
    "### Users: Make a class called User. Create attributes called first_name and last_name, username, location \n",
    "- Make a method called describe_user() that prints a summary of the user’s information. \n",
    "- Make another method called greet_user() that prints a personalized greeting to the user.\n",
    "- Create several instances representing different users, and call both methods for each user."
   ]
  },
  {
   "cell_type": "code",
   "execution_count": 12,
   "id": "fbdcb803",
   "metadata": {},
   "outputs": [
    {
     "name": "stdout",
     "output_type": "stream",
     "text": [
      "\n",
      "Eric Matthews\n",
      "\t\tUsername: e_matthews\n",
      "\t\tLocation: Alaska\n",
      "\n",
      " Welcome back Eric.\n",
      "\n",
      "Willie Burger\n",
      "\t\tUsername: w_burger\n",
      "\t\tLocation: Alaska\n",
      "\n",
      " Welcome back Willie.\n"
     ]
    }
   ],
   "source": [
    "class User():\n",
    "    def __init__(self,fname,lname,username,location):\n",
    "        self.fname=fname.title()\n",
    "        self.lname=lname.title()\n",
    "        self.username=username\n",
    "        self.location=location.title()\n",
    "        \n",
    "    def describe_user(self):\n",
    "        print(f\"\\n{self.fname} {self.lname}\")\n",
    "        print(f\"\\t\\tUsername: {self.username}\")\n",
    "        print(f\"\\t\\tLocation: {self.location}\")\n",
    "    \n",
    "    def greet_user(self):\n",
    "        print(f\"\\n Welcome back {self.fname}.\")\n",
    "        \n",
    "user1=User('eric', 'matthews', 'e_matthews', 'alaska')\n",
    "user1.describe_user()\n",
    "user1.greet_user()\n",
    "\n",
    "user2=User('willie', 'burger', 'w_burger', 'alaska')\n",
    "user2.describe_user()\n",
    "user2.greet_user()"
   ]
  },
  {
   "cell_type": "code",
   "execution_count": null,
   "id": "19436c93",
   "metadata": {},
   "outputs": [],
   "source": []
  },
  {
   "cell_type": "markdown",
   "id": "8b5bfff2",
   "metadata": {},
   "source": [
    "## Setting a Default Value for an Attribute\n",
    "* Create a class called `car` which contain make, model and year.\n",
    "* Add the `odometer_reading` default to zero (New car).\n",
    "* Create a method called `get_descriptive_name` which return the car informations\n",
    "* Create a method called `read_odometer` which will diplay the odometer reading of the car\n",
    "* Create two car attributes to test the code\n"
   ]
  },
  {
   "cell_type": "code",
   "execution_count": 11,
   "id": "917c987d",
   "metadata": {},
   "outputs": [],
   "source": [
    "class car():\n",
    "    # Create a class called car which contain make, model and year.\n",
    "    def __init__(self,make,model,year):\n",
    "        self.make=make\n",
    "        self.model=model\n",
    "        self.year=year\n",
    "        #Add the odometer_reading default to zero (New car).\n",
    "        self.odometer_reading=0\n",
    "        \n",
    "    def get_descriptive_name(self):\n",
    "        long_name= str(self.year)+ \" \"+ self.make + \" \"+self.model\n",
    "        return long_name.title()\n",
    "    \n",
    "    def read_odometer(self):\n",
    "        print(f\"This car has {self.odometer_reading} miles on it\")\n",
    "    "
   ]
  },
  {
   "cell_type": "code",
   "execution_count": 12,
   "id": "dc6512da",
   "metadata": {},
   "outputs": [
    {
     "name": "stdout",
     "output_type": "stream",
     "text": [
      "My car: 2019 Nissan Versa\n",
      "Friends car: 2018 Hyundai Elantra\n",
      "This car has 0 miles on it\n",
      "This car has 0 miles on it\n"
     ]
    }
   ],
   "source": [
    "my_car=car('Nissan', 'Versa', 2019)\n",
    "friends_car=car('Hyundai', 'Elantra', 2018)\n",
    "print(f\"My car: {my_car.get_descriptive_name()}\")\n",
    "print(f\"Friends car: {friends_car.get_descriptive_name()}\")\n",
    "\n",
    "my_car.read_odometer()\n",
    "friends_car.read_odometer()"
   ]
  },
  {
   "cell_type": "markdown",
   "id": "3f840f3e",
   "metadata": {},
   "source": [
    "#### Modifying the odometer reading without the method"
   ]
  },
  {
   "cell_type": "code",
   "execution_count": 13,
   "id": "6f8fa540",
   "metadata": {},
   "outputs": [
    {
     "name": "stdout",
     "output_type": "stream",
     "text": [
      "This car has 23 miles on it\n"
     ]
    }
   ],
   "source": [
    "my_car.odometer_reading=23 #Overwrite the default value\n",
    "my_car.read_odometer()"
   ]
  },
  {
   "cell_type": "code",
   "execution_count": 14,
   "id": "2f382418",
   "metadata": {},
   "outputs": [
    {
     "name": "stdout",
     "output_type": "stream",
     "text": [
      "This car has 10 miles on it\n"
     ]
    }
   ],
   "source": [
    "friends_car.odometer_reading=10\n",
    "friends_car.read_odometer()"
   ]
  },
  {
   "cell_type": "markdown",
   "id": "27f8f244",
   "metadata": {},
   "source": [
    "### Modifying an Attribute’s Value Through a Method"
   ]
  },
  {
   "cell_type": "code",
   "execution_count": 21,
   "id": "9b3ae956",
   "metadata": {},
   "outputs": [],
   "source": [
    "class car():\n",
    "    # Create a class called car which contain make, model and year.\n",
    "    def __init__(self,make,model,year):\n",
    "        self.make=make\n",
    "        self.model=model\n",
    "        self.year=year\n",
    "        #Add the odometer_reading default to zero (New car).\n",
    "        self.odometer_reading=0\n",
    "        \n",
    "    def get_descriptive_name(self):\n",
    "        long_name= str(self.year)+ \" \"+ self.make + \" \"+self.model\n",
    "        return long_name.title()\n",
    "    \n",
    "    def read_odometer(self):\n",
    "        print(f\"This car has {self.odometer_reading} miles on it\")\n",
    "        \n",
    "    def update_odometer(self,mileage):\n",
    "        self.odometer_reading=mileage\n",
    "        print(f\"The current odometer reading {self.odometer_reading}\")"
   ]
  },
  {
   "cell_type": "code",
   "execution_count": 22,
   "id": "3c3c57c2",
   "metadata": {},
   "outputs": [
    {
     "name": "stdout",
     "output_type": "stream",
     "text": [
      "The car information 2019 Nissan Versa\n",
      "This car has 0 miles on it\n",
      "The current odometer reading 23\n"
     ]
    }
   ],
   "source": [
    "my_car=car('Nissan', 'Versa', 2019)\n",
    "print(\"The car information\",my_car.get_descriptive_name())\n",
    "my_car.read_odometer()\n",
    "my_car.update_odometer(23)"
   ]
  },
  {
   "cell_type": "code",
   "execution_count": 23,
   "id": "ae9f5aee",
   "metadata": {},
   "outputs": [
    {
     "name": "stdout",
     "output_type": "stream",
     "text": [
      "This car has 23 miles on it\n"
     ]
    }
   ],
   "source": [
    "my_car.read_odometer()"
   ]
  },
  {
   "cell_type": "code",
   "execution_count": 24,
   "id": "77cd14bb",
   "metadata": {},
   "outputs": [
    {
     "name": "stdout",
     "output_type": "stream",
     "text": [
      "The current odometer reading 100\n"
     ]
    }
   ],
   "source": [
    "my_car.update_odometer(100)"
   ]
  },
  {
   "cell_type": "markdown",
   "id": "fd560131",
   "metadata": {},
   "source": [
    "### Incrementing an Attribute’s Value Through a Method"
   ]
  },
  {
   "cell_type": "code",
   "execution_count": 25,
   "id": "8d76b884",
   "metadata": {},
   "outputs": [],
   "source": [
    "class car():\n",
    "    # Create a class called car which contain make, model and year.\n",
    "    def __init__(self,make,model,year):\n",
    "        self.make=make\n",
    "        self.model=model\n",
    "        self.year=year\n",
    "        #Add the odometer_reading default to zero (New car).\n",
    "        self.odometer_reading=0\n",
    "        \n",
    "    def get_descriptive_name(self):\n",
    "        long_name= str(self.year)+ \" \"+ self.make + \" \"+self.model\n",
    "        return long_name.title()\n",
    "    \n",
    "    def read_odometer(self):\n",
    "        print(f\"This car has {self.odometer_reading} miles on it\")\n",
    "        \n",
    "    def update_odometer(self,mileage):\n",
    "        self.odometer_reading=mileage\n",
    "        print(f\"The current odometer reading {self.odometer_reading}\")\n",
    "        \n",
    "    def incremental_odometer(self,miles):\n",
    "        self.odometer_reading+=miles\n",
    "        print(f\"The updated odometer reading {self.odometer_reading}\")"
   ]
  },
  {
   "cell_type": "code",
   "execution_count": 27,
   "id": "1500c7e7",
   "metadata": {},
   "outputs": [
    {
     "name": "stdout",
     "output_type": "stream",
     "text": [
      "The car information 2019 Nissan Versa\n",
      "This car has 0 miles on it\n",
      "The current odometer reading 23\n",
      "The updated odometer reading 123\n",
      "The updated odometer reading 1123\n"
     ]
    }
   ],
   "source": [
    "my_car=car('Nissan', 'Versa', 2019)\n",
    "print(\"The car information\",my_car.get_descriptive_name())\n",
    "my_car.read_odometer()\n",
    "my_car.update_odometer(23)\n",
    "my_car.incremental_odometer(100)\n",
    "my_car.incremental_odometer(1000)"
   ]
  },
  {
   "cell_type": "markdown",
   "id": "b96f0d18",
   "metadata": {},
   "source": [
    "# Inheritance\n",
    "- You don’t always have to start from scratch when writing a class. If the class you’re writing is a specialized version of another class you wrote, you can use inheritance. \n",
    "- When one class inherits from another, it automatically takes on all the attributes and methods of the first class. The original class is called the `parent class`, and the new class is the `child class`. \n",
    "- The child class inherits every attribute and method from its parent class but is also free to define new attributes and methods of its own."
   ]
  },
  {
   "cell_type": "markdown",
   "id": "cab9d150",
   "metadata": {},
   "source": [
    "### Parent Class- Polygon\n",
    "- Create a method called calc_perimeter "
   ]
  },
  {
   "cell_type": "code",
   "execution_count": 1,
   "id": "cbb76f52",
   "metadata": {},
   "outputs": [],
   "source": [
    "class Polygon:\n",
    "    def __init__(self,side_length):\n",
    "        self.side_length=side_length\n",
    "        \n",
    "    def perimeter(self):\n",
    "        return sum(self.side_length)"
   ]
  },
  {
   "cell_type": "code",
   "execution_count": 2,
   "id": "4c1edabd",
   "metadata": {},
   "outputs": [
    {
     "name": "stdout",
     "output_type": "stream",
     "text": [
      "23\n"
     ]
    }
   ],
   "source": [
    "some_shape=Polygon([1,3,5,6,8])\n",
    "print(some_shape.perimeter())"
   ]
  },
  {
   "cell_type": "code",
   "execution_count": 3,
   "id": "4bb72bc7",
   "metadata": {},
   "outputs": [
    {
     "name": "stdout",
     "output_type": "stream",
     "text": [
      "177\n"
     ]
    }
   ],
   "source": [
    "another_shape=Polygon([2,56,65,12,34,8])\n",
    "print(another_shape.perimeter())"
   ]
  },
  {
   "cell_type": "markdown",
   "id": "dcc96662",
   "metadata": {},
   "source": [
    "## Child Class"
   ]
  },
  {
   "cell_type": "markdown",
   "id": "9fd70d66",
   "metadata": {},
   "source": [
    "### Create a child class called `Triangle` and calculate the perimer and the area"
   ]
  },
  {
   "cell_type": "code",
   "execution_count": 4,
   "id": "b5c4114f",
   "metadata": {},
   "outputs": [],
   "source": [
    "class Triangle(Polygon):\n",
    "    def __init__(self,side_length):\n",
    "        super().__init__(side_length)\n",
    "        \n",
    "    def area(self):\n",
    "        a,b,c=self.side_length # Unpacking the input variables\n",
    "        s=(a+b+c)/2\n",
    "        return (s*(s-a)*(s-b)*(s-c))**.5\n",
    "        \n",
    "    "
   ]
  },
  {
   "cell_type": "code",
   "execution_count": 7,
   "id": "d0028ef4",
   "metadata": {},
   "outputs": [
    {
     "name": "stdout",
     "output_type": "stream",
     "text": [
      "The perimeter is 12\n",
      "The area is 6\n"
     ]
    }
   ],
   "source": [
    "a_triangle=Triangle([3,4,5])\n",
    "print(f\"The perimeter is {a_triangle.perimeter()}\")\n",
    "print(f\"The area is {round(a_triangle.area())}\")"
   ]
  },
  {
   "cell_type": "markdown",
   "id": "abf284a1",
   "metadata": {},
   "source": [
    "### Create a child class called `square` and calculate the perimer and the area"
   ]
  },
  {
   "cell_type": "code",
   "execution_count": 8,
   "id": "4c1dc1e3",
   "metadata": {},
   "outputs": [],
   "source": [
    "class Square(Polygon):\n",
    "    def __init__(self,side_length):\n",
    "        super().__init__(side_length)\n",
    "    def area(self):\n",
    "        a,b,c,d=self.side_length\n",
    "        return a**2 # all sides value are same\n",
    "    \n",
    "    "
   ]
  },
  {
   "cell_type": "code",
   "execution_count": 9,
   "id": "3c72bb4f",
   "metadata": {},
   "outputs": [
    {
     "name": "stdout",
     "output_type": "stream",
     "text": [
      "The area: 4\n",
      "The perimeter: 8\n"
     ]
    }
   ],
   "source": [
    "a_square=Square([2,2,2,2])\n",
    "print(f\"The area: {a_square.area()}\")\n",
    "print(f\"The perimeter: {a_square.perimeter()}\")\n"
   ]
  },
  {
   "cell_type": "markdown",
   "id": "0b48a539",
   "metadata": {},
   "source": [
    "### Create a child class called `rectangle` and calculate the perimer and the area"
   ]
  },
  {
   "cell_type": "code",
   "execution_count": 12,
   "id": "6de2ea71",
   "metadata": {},
   "outputs": [],
   "source": [
    "class Rectangle(Polygon):\n",
    "    def __init__(self,side_length):\n",
    "        super().__init__(side_length)\n",
    "        \n",
    "    def area(self):\n",
    "        a,b,c,d=self.side_length\n",
    "        if a!=b:\n",
    "            result=a*b\n",
    "        elif a!=c:\n",
    "            result=a*c\n",
    "        else:\n",
    "            result= a*d\n",
    "        return result"
   ]
  },
  {
   "cell_type": "code",
   "execution_count": 15,
   "id": "d9aa251e",
   "metadata": {},
   "outputs": [
    {
     "name": "stdout",
     "output_type": "stream",
     "text": [
      "The area: 6\n",
      "The perimeter: 10\n"
     ]
    }
   ],
   "source": [
    "a_rectangle=Rectangle([2,2,3,3])\n",
    "print(f\"The area: {a_rectangle.area()}\")\n",
    "print(f\"The perimeter: {a_rectangle.perimeter()}\")\n"
   ]
  },
  {
   "cell_type": "code",
   "execution_count": null,
   "id": "c33a49b3",
   "metadata": {},
   "outputs": [],
   "source": []
  },
  {
   "cell_type": "markdown",
   "id": "5b594c20",
   "metadata": {},
   "source": [
    "### Practice: Create a class named Person, with firstname and lastname properties, and a printname method:"
   ]
  },
  {
   "cell_type": "code",
   "execution_count": 16,
   "id": "974f12dd",
   "metadata": {},
   "outputs": [],
   "source": [
    "class Person():\n",
    "    def __init__(self,fname,lname):\n",
    "        self.fname=fname.title()\n",
    "        self.lname=lname.title()\n",
    "        \n",
    "    def print_name(self):\n",
    "        print(f\"Fullname: {self.fname} {self.lname}\")"
   ]
  },
  {
   "cell_type": "code",
   "execution_count": 17,
   "id": "aa1ef716",
   "metadata": {},
   "outputs": [
    {
     "name": "stdout",
     "output_type": "stream",
     "text": [
      "Fullname: John Smith\n",
      "Fullname: Anisha Ray\n"
     ]
    }
   ],
   "source": [
    "person1=Person(\"John\", \"Smith\")\n",
    "person2=Person(\"Anisha\", \"Ray\")\n",
    "person1.print_name()\n",
    "person2.print_name()"
   ]
  },
  {
   "cell_type": "markdown",
   "id": "a8023470",
   "metadata": {},
   "source": [
    "### Create child classes called Student using Inheritance contains the first and last name and the graduation year \n",
    "- Add a method called `welcome` that prints the student graduation year\n",
    "- Test the student method for two students"
   ]
  },
  {
   "cell_type": "code",
   "execution_count": 20,
   "id": "dc5c4656",
   "metadata": {},
   "outputs": [],
   "source": [
    "class Student(Person):\n",
    "    def __init__(self,fname,lname,year):\n",
    "        super().__init__(fname,lname)\n",
    "        self.year=year\n",
    "    def welcome(self):\n",
    "        print(f\"Welcome, {self.fname} {self.lname} to the class of {self.year}\")"
   ]
  },
  {
   "cell_type": "code",
   "execution_count": 21,
   "id": "561e668e",
   "metadata": {},
   "outputs": [
    {
     "name": "stdout",
     "output_type": "stream",
     "text": [
      "Fullname: John Smith\n",
      "Welcome, John Smith to the class of 2027\n"
     ]
    }
   ],
   "source": [
    "Student1=Student(\"John\", \"Smith\",2027)\n",
    "Student1.print_name()\n",
    "Student1.welcome()"
   ]
  },
  {
   "cell_type": "code",
   "execution_count": null,
   "id": "8a458055",
   "metadata": {},
   "outputs": [],
   "source": []
  },
  {
   "cell_type": "markdown",
   "id": "415b8976",
   "metadata": {},
   "source": [
    "### Crate rectangle (length and width) and square (length) classes and create methods for calculating the area and perimeter "
   ]
  },
  {
   "cell_type": "code",
   "execution_count": null,
   "id": "76940bc7",
   "metadata": {},
   "outputs": [],
   "source": []
  },
  {
   "cell_type": "code",
   "execution_count": null,
   "id": "11b68dc7",
   "metadata": {},
   "outputs": [],
   "source": []
  },
  {
   "cell_type": "markdown",
   "id": "d6141cd4",
   "metadata": {},
   "source": [
    "### Use inheritance to create the square class from parent class rectangle"
   ]
  },
  {
   "cell_type": "markdown",
   "id": "3c22f450",
   "metadata": {},
   "source": [
    "### Create a parent class rectangle and two methods called area and perimeter"
   ]
  },
  {
   "cell_type": "code",
   "execution_count": 22,
   "id": "7d2aa3e6",
   "metadata": {},
   "outputs": [],
   "source": [
    "class Rectangle():\n",
    "    def __init__(self,length,width):\n",
    "        self.length=length\n",
    "        self.width=width\n",
    "        \n",
    "    def area(self):\n",
    "        return self.length*self.width\n",
    "    \n",
    "    def perimeter(self):\n",
    "        return 2*(self.length+self.width)"
   ]
  },
  {
   "cell_type": "markdown",
   "id": "44744311",
   "metadata": {},
   "source": [
    "### Create a child class square and test for two cases, do method overloading for area and perimeter"
   ]
  },
  {
   "cell_type": "code",
   "execution_count": 23,
   "id": "ccc96234",
   "metadata": {},
   "outputs": [],
   "source": [
    "class Square(Rectangle):\n",
    "    def __init__(self,length):\n",
    "        super().__init__(length,length)"
   ]
  },
  {
   "cell_type": "code",
   "execution_count": 26,
   "id": "eed68e1d",
   "metadata": {},
   "outputs": [
    {
     "name": "stdout",
     "output_type": "stream",
     "text": [
      "9\n",
      "12\n"
     ]
    }
   ],
   "source": [
    "square1=Square(3)\n",
    "print(square1.area())\n",
    "print(square1.perimeter())"
   ]
  },
  {
   "cell_type": "markdown",
   "id": "a8cd6568",
   "metadata": {},
   "source": [
    "### Lambda Function"
   ]
  },
  {
   "cell_type": "code",
   "execution_count": 1,
   "id": "03f85a76",
   "metadata": {},
   "outputs": [],
   "source": [
    "# The identity function returns the argument\n",
    "def identity(x):\n",
    "    return x"
   ]
  },
  {
   "cell_type": "code",
   "execution_count": 2,
   "id": "5c60c43b",
   "metadata": {},
   "outputs": [
    {
     "data": {
      "text/plain": [
       "3"
      ]
     },
     "execution_count": 2,
     "metadata": {},
     "output_type": "execute_result"
    }
   ],
   "source": [
    "identity(3)"
   ]
  },
  {
   "cell_type": "markdown",
   "id": "34f7667a",
   "metadata": {},
   "source": [
    "### A lambda function construction:\n",
    "lambda argument(s):expression"
   ]
  },
  {
   "cell_type": "code",
   "execution_count": 3,
   "id": "43e151fe",
   "metadata": {},
   "outputs": [
    {
     "data": {
      "text/plain": [
       "2"
      ]
     },
     "execution_count": 3,
     "metadata": {},
     "output_type": "execute_result"
    }
   ],
   "source": [
    "(lambda x:x)(2) # (lambda argument:expression)(input)"
   ]
  },
  {
   "cell_type": "code",
   "execution_count": 4,
   "id": "e442a1b5",
   "metadata": {
    "scrolled": false
   },
   "outputs": [
    {
     "data": {
      "text/plain": [
       "4"
      ]
     },
     "execution_count": 4,
     "metadata": {},
     "output_type": "execute_result"
    }
   ],
   "source": [
    "(lambda x:x+1)(3)"
   ]
  },
  {
   "cell_type": "code",
   "execution_count": 5,
   "id": "d5939353",
   "metadata": {},
   "outputs": [],
   "source": [
    "# as lamnda is a function we can store it to a variable\n",
    "add_one=lambda x:x+1"
   ]
  },
  {
   "cell_type": "code",
   "execution_count": 6,
   "id": "e2ff7acf",
   "metadata": {},
   "outputs": [
    {
     "data": {
      "text/plain": [
       "4"
      ]
     },
     "execution_count": 6,
     "metadata": {},
     "output_type": "execute_result"
    }
   ],
   "source": [
    "add_one(3)"
   ]
  },
  {
   "cell_type": "markdown",
   "id": "33b2fd9a",
   "metadata": {},
   "source": [
    "### Common use of lambda function\n",
    "- It use with iterables which is a series of values\n",
    "- python iterables are list, dictionary, tuple, Strings so on\n",
    "- Two common function works with lambda function are `filter()`, `map()`"
   ]
  },
  {
   "cell_type": "markdown",
   "id": "a09758dc",
   "metadata": {},
   "source": [
    "### filter()"
   ]
  },
  {
   "cell_type": "markdown",
   "id": "184b9e76",
   "metadata": {},
   "source": [
    "#### Example: we have a list [1,2,3,4,5,6,7,8,9,10]. We are only interested in even numbers"
   ]
  },
  {
   "cell_type": "code",
   "execution_count": 8,
   "id": "e966ad38",
   "metadata": {},
   "outputs": [
    {
     "data": {
      "text/plain": [
       "[2, 4, 6, 8, 10]"
      ]
     },
     "execution_count": 8,
     "metadata": {},
     "output_type": "execute_result"
    }
   ],
   "source": [
    "list1=[1,2,3,4,5,6,7,8,9,10]\n",
    "list(filter(lambda x:x%2==0, list1))"
   ]
  },
  {
   "cell_type": "code",
   "execution_count": 9,
   "id": "011e28b6",
   "metadata": {},
   "outputs": [
    {
     "data": {
      "text/plain": [
       "[1, 3, 5, 7, 9]"
      ]
     },
     "execution_count": 9,
     "metadata": {},
     "output_type": "execute_result"
    }
   ],
   "source": [
    "# Filter the odd numbers\n",
    "list(filter(lambda x: x%2==1, list1))"
   ]
  },
  {
   "cell_type": "code",
   "execution_count": 10,
   "id": "2681ad79",
   "metadata": {},
   "outputs": [
    {
     "data": {
      "text/plain": [
       "[3, 6, 9]"
      ]
     },
     "execution_count": 10,
     "metadata": {},
     "output_type": "execute_result"
    }
   ],
   "source": [
    "# Filter the number multiple of 3\n",
    "list(filter(lambda x: x%3==0, list1))"
   ]
  },
  {
   "cell_type": "markdown",
   "id": "a57860d4",
   "metadata": {},
   "source": [
    "#### `map()` use whenever you want to update/ modify every value in an iterable"
   ]
  },
  {
   "cell_type": "code",
   "execution_count": 11,
   "id": "743ceb17",
   "metadata": {},
   "outputs": [
    {
     "data": {
      "text/plain": [
       "[1, 4, 9, 16, 25, 36, 49, 64, 81, 100]"
      ]
     },
     "execution_count": 11,
     "metadata": {},
     "output_type": "execute_result"
    }
   ],
   "source": [
    "# Create a new list of power of two\n",
    "list1=[1,2,3,4,5,6,7,8,9,10]\n",
    "\n",
    "list(map(lambda x: pow(x,2),list1))"
   ]
  },
  {
   "cell_type": "code",
   "execution_count": 12,
   "id": "71ba002b",
   "metadata": {},
   "outputs": [
    {
     "data": {
      "text/plain": [
       "[1, 8, 27, 64, 125, 216, 343, 512, 729, 1000]"
      ]
     },
     "execution_count": 12,
     "metadata": {},
     "output_type": "execute_result"
    }
   ],
   "source": [
    "# Cube of each number\n",
    "list(map(lambda y: pow(y,3), list1))"
   ]
  },
  {
   "cell_type": "markdown",
   "id": "199a22c0",
   "metadata": {},
   "source": [
    "### Example"
   ]
  },
  {
   "cell_type": "code",
   "execution_count": 13,
   "id": "327e634a",
   "metadata": {},
   "outputs": [
    {
     "data": {
      "text/plain": [
       "6"
      ]
     },
     "execution_count": 13,
     "metadata": {},
     "output_type": "execute_result"
    }
   ],
   "source": [
    "(lambda x,y,z:x+y+z)(1,2,3)"
   ]
  },
  {
   "cell_type": "code",
   "execution_count": 16,
   "id": "8ddd886c",
   "metadata": {},
   "outputs": [
    {
     "data": {
      "text/plain": [
       "5"
      ]
     },
     "execution_count": 16,
     "metadata": {},
     "output_type": "execute_result"
    }
   ],
   "source": [
    "(lambda x, y, z=2: x+y+z)(1,2)"
   ]
  },
  {
   "cell_type": "code",
   "execution_count": 17,
   "id": "04793df3",
   "metadata": {},
   "outputs": [
    {
     "data": {
      "text/plain": [
       "3"
      ]
     },
     "execution_count": 17,
     "metadata": {},
     "output_type": "execute_result"
    }
   ],
   "source": [
    "(lambda x, y, z=2: x+y+z)(1,2,0)"
   ]
  },
  {
   "cell_type": "code",
   "execution_count": 18,
   "id": "3855626a",
   "metadata": {},
   "outputs": [
    {
     "data": {
      "text/plain": [
       "23"
      ]
     },
     "execution_count": 18,
     "metadata": {},
     "output_type": "execute_result"
    }
   ],
   "source": [
    "(lambda *args: sum(args))(1,2,3,4,5,8)"
   ]
  },
  {
   "cell_type": "markdown",
   "id": "e4e8e0c3",
   "metadata": {},
   "source": [
    "### Exception handling"
   ]
  },
  {
   "cell_type": "code",
   "execution_count": 19,
   "id": "bff79ee6",
   "metadata": {},
   "outputs": [
    {
     "ename": "ZeroDivisionError",
     "evalue": "division by zero",
     "output_type": "error",
     "traceback": [
      "\u001b[1;31m---------------------------------------------------------------------------\u001b[0m",
      "\u001b[1;31mZeroDivisionError\u001b[0m                         Traceback (most recent call last)",
      "\u001b[1;32m~\\AppData\\Local\\Temp\\ipykernel_11168\\1152173066.py\u001b[0m in \u001b[0;36m<module>\u001b[1;34m\u001b[0m\n\u001b[1;32m----> 1\u001b[1;33m \u001b[0mprint\u001b[0m\u001b[1;33m(\u001b[0m\u001b[1;36m5\u001b[0m\u001b[1;33m/\u001b[0m\u001b[1;36m0\u001b[0m\u001b[1;33m)\u001b[0m\u001b[1;33m\u001b[0m\u001b[1;33m\u001b[0m\u001b[0m\n\u001b[0m",
      "\u001b[1;31mZeroDivisionError\u001b[0m: division by zero"
     ]
    }
   ],
   "source": [
    "print(5/0)"
   ]
  },
  {
   "cell_type": "code",
   "execution_count": 20,
   "id": "d9c55edf",
   "metadata": {},
   "outputs": [
    {
     "ename": "TypeError",
     "evalue": "unsupported operand type(s) for +: 'int' and 'str'",
     "output_type": "error",
     "traceback": [
      "\u001b[1;31m---------------------------------------------------------------------------\u001b[0m",
      "\u001b[1;31mTypeError\u001b[0m                                 Traceback (most recent call last)",
      "\u001b[1;32m~\\AppData\\Local\\Temp\\ipykernel_11168\\1063262666.py\u001b[0m in \u001b[0;36m<module>\u001b[1;34m\u001b[0m\n\u001b[0;32m      1\u001b[0m \u001b[0mx\u001b[0m\u001b[1;33m=\u001b[0m\u001b[1;36m5\u001b[0m\u001b[1;33m\u001b[0m\u001b[1;33m\u001b[0m\u001b[0m\n\u001b[0;32m      2\u001b[0m \u001b[0my\u001b[0m\u001b[1;33m=\u001b[0m\u001b[1;34m\"Hello\"\u001b[0m\u001b[1;33m\u001b[0m\u001b[1;33m\u001b[0m\u001b[0m\n\u001b[1;32m----> 3\u001b[1;33m \u001b[0mz\u001b[0m\u001b[1;33m=\u001b[0m \u001b[0mx\u001b[0m\u001b[1;33m+\u001b[0m\u001b[0my\u001b[0m\u001b[1;33m\u001b[0m\u001b[1;33m\u001b[0m\u001b[0m\n\u001b[0m",
      "\u001b[1;31mTypeError\u001b[0m: unsupported operand type(s) for +: 'int' and 'str'"
     ]
    }
   ],
   "source": [
    "x=5\n",
    "y=\"Hello\"\n",
    "z= x+y"
   ]
  },
  {
   "cell_type": "code",
   "execution_count": 21,
   "id": "dff633c3",
   "metadata": {},
   "outputs": [
    {
     "name": "stdout",
     "output_type": "stream",
     "text": [
      "Error: can not add int and str\n"
     ]
    }
   ],
   "source": [
    "x=5\n",
    "y=\"Hello\"\n",
    "\n",
    "try:\n",
    "    z=x+y\n",
    "except TypeError:\n",
    "    print(\"Error: can not add int and str\")"
   ]
  },
  {
   "cell_type": "code",
   "execution_count": 23,
   "id": "e91ac4d2",
   "metadata": {},
   "outputs": [
    {
     "name": "stdout",
     "output_type": "stream",
     "text": [
      "Second variable:  2\n",
      "An error occured\n"
     ]
    }
   ],
   "source": [
    "list1=[1,2,3]\n",
    "try:\n",
    "    print(\"Second variable: \", list1[1])\n",
    "    print(\"Fourth variable: \", list1[3])\n",
    "except:\n",
    "    print(\"An error occured\")"
   ]
  },
  {
   "cell_type": "code",
   "execution_count": 22,
   "id": "68297994",
   "metadata": {},
   "outputs": [
    {
     "ename": "IndexError",
     "evalue": "list index out of range",
     "output_type": "error",
     "traceback": [
      "\u001b[1;31m---------------------------------------------------------------------------\u001b[0m",
      "\u001b[1;31mIndexError\u001b[0m                                Traceback (most recent call last)",
      "\u001b[1;32m~\\AppData\\Local\\Temp\\ipykernel_11168\\4055570827.py\u001b[0m in \u001b[0;36m<module>\u001b[1;34m\u001b[0m\n\u001b[0;32m      1\u001b[0m \u001b[0mlist1\u001b[0m\u001b[1;33m=\u001b[0m\u001b[1;33m[\u001b[0m\u001b[1;36m1\u001b[0m\u001b[1;33m,\u001b[0m\u001b[1;36m2\u001b[0m\u001b[1;33m,\u001b[0m\u001b[1;36m3\u001b[0m\u001b[1;33m]\u001b[0m\u001b[1;33m\u001b[0m\u001b[1;33m\u001b[0m\u001b[0m\n\u001b[1;32m----> 2\u001b[1;33m \u001b[0mprint\u001b[0m\u001b[1;33m(\u001b[0m\u001b[1;34m\"Fourth variable: \"\u001b[0m\u001b[1;33m,\u001b[0m \u001b[0mlist1\u001b[0m\u001b[1;33m[\u001b[0m\u001b[1;36m3\u001b[0m\u001b[1;33m]\u001b[0m\u001b[1;33m)\u001b[0m\u001b[1;33m\u001b[0m\u001b[1;33m\u001b[0m\u001b[0m\n\u001b[0m",
      "\u001b[1;31mIndexError\u001b[0m: list index out of range"
     ]
    }
   ],
   "source": [
    "list1=[1,2,3]\n",
    "print(\"Fourth variable: \", list1[3])"
   ]
  },
  {
   "cell_type": "code",
   "execution_count": 26,
   "id": "c4bb3d66",
   "metadata": {},
   "outputs": [
    {
     "name": "stdout",
     "output_type": "stream",
     "text": [
      "-5.0\n",
      "a/b results 0\n"
     ]
    }
   ],
   "source": [
    "def test(a,b):\n",
    "    try:\n",
    "        c=(a+b)/(a-b)\n",
    "    except:\n",
    "        print(\"a/b results 0\")\n",
    "    else:\n",
    "        print(c)\n",
    "test(2,3)\n",
    "test(3,3)        "
   ]
  },
  {
   "cell_type": "markdown",
   "id": "3bdcfd1c",
   "metadata": {},
   "source": [
    "## Create a simple calculator using classes\n",
    "(IP7)"
   ]
  },
  {
   "cell_type": "code",
   "execution_count": 27,
   "id": "afd85d93",
   "metadata": {},
   "outputs": [
    {
     "name": "stdout",
     "output_type": "stream",
     "text": [
      "Enter first number: 23\n",
      "Enter second number: 23\n",
      "\n",
      "0. Exit\n",
      "1. Addition\n",
      "2. Subtraction\n",
      "3. Multiplication\n",
      "4. Division\n",
      "Enter your choice....1\n",
      "Result: 46\n",
      "\n",
      "0. Exit\n",
      "1. Addition\n",
      "2. Subtraction\n",
      "3. Multiplication\n",
      "4. Division\n",
      "Enter your choice....3\n",
      "Result: 529\n",
      "\n",
      "0. Exit\n",
      "1. Addition\n",
      "2. Subtraction\n",
      "3. Multiplication\n",
      "4. Division\n",
      "Enter your choice....0\n",
      "Exit\n",
      "\n"
     ]
    }
   ],
   "source": [
    "class calculator():\n",
    "    def __init__(self,input1,input2):\n",
    "        self.input1=input1\n",
    "        self.input2=input2\n",
    "    def addition(self):\n",
    "        return self.input1+self.input2\n",
    "    def subtraction(self):\n",
    "        return self.input1-self.input2\n",
    "    def multiplication(self):\n",
    "        return self.input1*self.input2\n",
    "    def division(self):\n",
    "        return self.input1/self.input2\n",
    "input_1=int(input(\"Enter first number: \"))\n",
    "input_2=int(input(\"Enter second number: \"))\n",
    "my_calc=calculator(input_1,input_2)\n",
    "\n",
    "choice=1\n",
    "while choice!=0:\n",
    "    print()\n",
    "    print(\"0. Exit\")\n",
    "    print(\"1. Addition\")\n",
    "    print(\"2. Subtraction\")\n",
    "    print(\"3. Multiplication\")\n",
    "    print(\"4. Division\")\n",
    "    choice=int(input(\"Enter your choice....\"))\n",
    "    \n",
    "    if choice==1:\n",
    "        print(f\"Result: {my_calc.addition()}\")\n",
    "        \n",
    "    elif choice==2:\n",
    "        print(f\"Result: {my_calc.subtraction()}\")\n",
    "    \n",
    "    elif choice==3:\n",
    "        print(f\"Result: {my_calc.multiplication()}\")\n",
    "    elif choice==4:\n",
    "        print(f\"Result: {my_calc.division()}\")\n",
    "    elif choice==0:\n",
    "              print(\"Exit\")\n",
    "    else:\n",
    "              print(\"Sorry Invalid choice\")\n",
    "print()\n",
    "    "
   ]
  },
  {
   "cell_type": "markdown",
   "id": "0ec161b5",
   "metadata": {},
   "source": [
    "## ATM machine "
   ]
  },
  {
   "cell_type": "code",
   "execution_count": 28,
   "id": "cbd48ed4",
   "metadata": {},
   "outputs": [],
   "source": [
    "class Bank_account:\n",
    "    def __init__(self):\n",
    "        self.balance=0\n",
    "        print(\"Hello! Welcome to the ATM\")\n",
    "    def deposit(self):\n",
    "        amount= float(input(\"Enter the amount you want to deposit: \"))\n",
    "        self.balance+=amount\n",
    "        print(\"\\n Amount deposited\", amount)\n",
    "        \n",
    "    def withdraw(self):\n",
    "        amount= float(input(\"Enter the amount you want to withdraw: \"))\n",
    "        if self.balance>=amount:\n",
    "            self.balance-=amount\n",
    "            print(\"\\n You withdrawn\", amount)\n",
    "        else:\n",
    "            print(\"\\n Insufficient Balance\")\n",
    "    def display(self):\n",
    "        print(\"The avialable balance is\", self.balance)"
   ]
  },
  {
   "cell_type": "code",
   "execution_count": 29,
   "id": "fc5735f1",
   "metadata": {},
   "outputs": [
    {
     "name": "stdout",
     "output_type": "stream",
     "text": [
      "Hello! Welcome to the ATM\n",
      "The avialable balance is 0\n"
     ]
    }
   ],
   "source": [
    "sams_acount=Bank_account()\n",
    "sams_acount.display()"
   ]
  },
  {
   "cell_type": "code",
   "execution_count": 30,
   "id": "67fbb48f",
   "metadata": {},
   "outputs": [
    {
     "name": "stdout",
     "output_type": "stream",
     "text": [
      "Enter the amount you want to deposit: 500\n",
      "\n",
      " Amount deposited 500.0\n"
     ]
    }
   ],
   "source": [
    "# Deposit\n",
    "sams_acount.deposit()"
   ]
  },
  {
   "cell_type": "code",
   "execution_count": 31,
   "id": "cc071e22",
   "metadata": {},
   "outputs": [
    {
     "name": "stdout",
     "output_type": "stream",
     "text": [
      "The avialable balance is 500.0\n"
     ]
    }
   ],
   "source": [
    "sams_acount.display()"
   ]
  },
  {
   "cell_type": "code",
   "execution_count": 34,
   "id": "5a1d84fd",
   "metadata": {},
   "outputs": [
    {
     "name": "stdout",
     "output_type": "stream",
     "text": [
      "Enter the amount you want to withdraw: 200\n",
      "\n",
      " You withdrawn 200.0\n"
     ]
    }
   ],
   "source": [
    "# Withdraw\n",
    "sams_acount.withdraw()"
   ]
  },
  {
   "cell_type": "code",
   "execution_count": 35,
   "id": "4ad38b30",
   "metadata": {},
   "outputs": [
    {
     "name": "stdout",
     "output_type": "stream",
     "text": [
      "The avialable balance is 300.0\n"
     ]
    }
   ],
   "source": [
    "sams_acount.display()"
   ]
  },
  {
   "cell_type": "code",
   "execution_count": null,
   "id": "7215893f",
   "metadata": {},
   "outputs": [],
   "source": []
  }
 ],
 "metadata": {
  "kernelspec": {
   "display_name": "Python 3 (ipykernel)",
   "language": "python",
   "name": "python3"
  },
  "language_info": {
   "codemirror_mode": {
    "name": "ipython",
    "version": 3
   },
   "file_extension": ".py",
   "mimetype": "text/x-python",
   "name": "python",
   "nbconvert_exporter": "python",
   "pygments_lexer": "ipython3",
   "version": "3.9.13"
  }
 },
 "nbformat": 4,
 "nbformat_minor": 5
}
