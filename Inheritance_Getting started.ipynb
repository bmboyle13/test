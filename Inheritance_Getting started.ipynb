{
 "cells": [
  {
   "cell_type": "markdown",
   "id": "dd3a1ec4",
   "metadata": {},
   "source": [
    "# Inheritance: Extending Classes To Make New Classes\n",
    "- As you might know, creating a fully functional class in an object-oriented programming language is time-consuming because real classes perform a lot of complex tasks.\n",
    "\n",
    "- In Python, you can get the features you want from an `existing class(parent)` to create a `new class(child)`. This Python feature is called inheritance. By inheritance, you can: \n",
    "\n",
    "1.  obtain the features of a parent class,\n",
    "2.  change the features that you don’t need,\n",
    "3.  add new features to your child class. (derived class or subclass)"
   ]
  },
  {
   "cell_type": "markdown",
   "id": "fd9987ba",
   "metadata": {},
   "source": [
    "### Example: Three Data Professional\n",
    "We have 3 data professionals. They all know mathematics and statistics, SQL, and a programming language like Python, R, Java, etc.\n",
    "- Data Scientist\n",
    "- Data Analyst\n",
    "- Data Engineer\n",
    "* Write three classes and each contain two methods `know_math_stat` and `know_programming`"
   ]
  },
  {
   "cell_type": "code",
   "execution_count": 1,
   "id": "b0d5c792",
   "metadata": {},
   "outputs": [],
   "source": [
    "class Data_Scientist():\n",
    "    def __init__(self, name, SQL):\n",
    "        self.name = name\n",
    "        self.SQL = SQL\n",
    "    def knows_maths_stats(self):\n",
    "        return True\n",
    "    def knows_programming(self):\n",
    "        return True\n",
    "class Data_Analyst():\n",
    "    pass  #Empty class not return anything\n",
    " \n",
    "class Data_Engineer():\n",
    "    def __init__(self, name, SQL):\n",
    "        self.name = name\n",
    "        self.SQL = SQL\n",
    "    def knows_maths_stats(self):\n",
    "        return True\n",
    "    def knows_programming(self):\n",
    "        return True"
   ]
  },
  {
   "cell_type": "markdown",
   "id": "2ea4d472",
   "metadata": {},
   "source": [
    "#### Initialize data_sc object and print features"
   ]
  },
  {
   "cell_type": "code",
   "execution_count": 10,
   "id": "75acb918",
   "metadata": {},
   "outputs": [
    {
     "name": "stdout",
     "output_type": "stream",
     "text": [
      "Mary Smith 9 True True\n"
     ]
    }
   ],
   "source": [
    "dt_sci = Data_Scientist(\"Mary Smith\", 9)\n",
    "print(dt_sci.name, \n",
    "      dt_sci.SQL, \n",
    "      dt_sci.knows_maths_stats(),  \n",
    "      dt_sci.knows_programming())"
   ]
  },
  {
   "cell_type": "code",
   "execution_count": 3,
   "id": "c8e7edf0",
   "metadata": {},
   "outputs": [],
   "source": [
    "#dt_An=Data_Analyst(\"Sam Chu\", 9)"
   ]
  },
  {
   "cell_type": "code",
   "execution_count": 4,
   "id": "59ea3ec8",
   "metadata": {},
   "outputs": [
    {
     "name": "stdout",
     "output_type": "stream",
     "text": [
      "John Smith 9 True True\n"
     ]
    }
   ],
   "source": [
    "dt_en = Data_Engineer(\"John Smith\", 9)\n",
    "print(dt_en.name, \n",
    "      dt_en.SQL, \n",
    "      dt_en.knows_maths_stats(),  \n",
    "      dt_en.knows_programming())"
   ]
  },
  {
   "cell_type": "markdown",
   "id": "fc8238c5",
   "metadata": {},
   "source": [
    "### Instead of writing the same class again and again, we can define a parent class `Data_Professional` and 3 child classes of the Data_Professional class: Data_Analyst, Data_Scientist, and Data_Engineer."
   ]
  },
  {
   "cell_type": "markdown",
   "id": "8601b45b",
   "metadata": {},
   "source": [
    "## Parent class"
   ]
  },
  {
   "cell_type": "code",
   "execution_count": 5,
   "id": "5c237e28",
   "metadata": {},
   "outputs": [],
   "source": [
    "class Data_Professional():\n",
    "    def __init__(self,name,SQL):\n",
    "        self.name=name\n",
    "        self.SQL=SQL\n",
    "    def knows_maths_stats(self):\n",
    "        return True\n",
    "    def knows_programming(self):\n",
    "        return True"
   ]
  },
  {
   "cell_type": "markdown",
   "id": "e2aa356d",
   "metadata": {},
   "source": [
    "## Child Classes"
   ]
  },
  {
   "cell_type": "code",
   "execution_count": 6,
   "id": "f085db2e",
   "metadata": {},
   "outputs": [],
   "source": [
    "class Data_Scientist(Data_Professional):\n",
    "    def __init__(self,name,SQL):\n",
    "        super().__init__(name,SQL) #get the name and \n",
    "        #SQL from its super class"
   ]
  },
  {
   "cell_type": "code",
   "execution_count": 7,
   "id": "298d50d8",
   "metadata": {},
   "outputs": [
    {
     "name": "stdout",
     "output_type": "stream",
     "text": [
      "Mary Smith 9 True True\n"
     ]
    }
   ],
   "source": [
    "dt_sci = Data_Scientist(\"Mary Smith\", 9)\n",
    "print(dt_sci.name, \n",
    "      dt_sci.SQL, \n",
    "      dt_sci.knows_maths_stats(),  \n",
    "      dt_sci.knows_programming())"
   ]
  },
  {
   "cell_type": "markdown",
   "id": "24c41fca",
   "metadata": {},
   "source": [
    "### An empty class has the properties of its parent class"
   ]
  },
  {
   "cell_type": "code",
   "execution_count": 8,
   "id": "5f92f09d",
   "metadata": {},
   "outputs": [],
   "source": [
    "class Data_Analyst(Data_Professional):\n",
    "    pass\n"
   ]
  },
  {
   "cell_type": "code",
   "execution_count": 9,
   "id": "1a407755",
   "metadata": {},
   "outputs": [
    {
     "name": "stdout",
     "output_type": "stream",
     "text": [
      "Sam Chu 9 True True\n"
     ]
    }
   ],
   "source": [
    "dt_An = Data_Analyst(\"Sam Chu\", 9)\n",
    "print(dt_An.name, \n",
    "      dt_An.SQL, \n",
    "      dt_An.knows_maths_stats(),  \n",
    "      dt_An.knows_programming())"
   ]
  },
  {
   "cell_type": "code",
   "execution_count": 10,
   "id": "3b9fb2c8",
   "metadata": {},
   "outputs": [],
   "source": [
    "class Data_Engineer(Data_Professional):\n",
    "    def __init__(self,name,SQL):\n",
    "        super().__init__(name,SQL)"
   ]
  },
  {
   "cell_type": "code",
   "execution_count": 11,
   "id": "3625da95",
   "metadata": {},
   "outputs": [
    {
     "name": "stdout",
     "output_type": "stream",
     "text": [
      "John Smith 9 True True\n"
     ]
    }
   ],
   "source": [
    "dt_en = Data_Engineer(\"John Smith\", 9)\n",
    "print(dt_en.name, \n",
    "      dt_en.SQL, \n",
    "      dt_en.knows_maths_stats(),  \n",
    "      dt_en.knows_programming())"
   ]
  },
  {
   "cell_type": "markdown",
   "id": "a8ae9c96",
   "metadata": {},
   "source": [
    "## Overriding Classes"
   ]
  },
  {
   "cell_type": "code",
   "execution_count": 12,
   "id": "bcccc681",
   "metadata": {},
   "outputs": [
    {
     "name": "stdout",
     "output_type": "stream",
     "text": [
      "Sam Chu 9 True False\n"
     ]
    }
   ],
   "source": [
    "class Data_Analyst(Data_Professional):\n",
    "    def __init__(self, name, SQL):\n",
    "        super().__init__(name, SQL)\n",
    "    def knows_programming(self):\n",
    "        return False\n",
    "dt_An = Data_Analyst(\"Sam Chu\", 9)\n",
    "print(dt_An.name, \n",
    "      dt_An.SQL, \n",
    "      dt_An.knows_maths_stats(),  \n",
    "      dt_An.knows_programming())"
   ]
  },
  {
   "cell_type": "markdown",
   "id": "386b1f34",
   "metadata": {},
   "source": [
    "## Checking Subclasses And Instances\n",
    "`issubclass()` Method:\n",
    "The Builtin function issubclass(class1, class2) asks whether one class is a subclass of another class."
   ]
  },
  {
   "cell_type": "code",
   "execution_count": 13,
   "id": "3478ac58",
   "metadata": {},
   "outputs": [
    {
     "name": "stdout",
     "output_type": "stream",
     "text": [
      "True\n"
     ]
    }
   ],
   "source": [
    "print(issubclass(Data_Analyst, Data_Professional))"
   ]
  },
  {
   "cell_type": "code",
   "execution_count": 14,
   "id": "36a35d5b",
   "metadata": {},
   "outputs": [
    {
     "name": "stdout",
     "output_type": "stream",
     "text": [
      "True\n"
     ]
    }
   ],
   "source": [
    "print(issubclass(Data_Scientist, Data_Professional))"
   ]
  },
  {
   "cell_type": "code",
   "execution_count": 15,
   "id": "ffe0c8d7",
   "metadata": {},
   "outputs": [
    {
     "name": "stdout",
     "output_type": "stream",
     "text": [
      "True\n"
     ]
    }
   ],
   "source": [
    "print(issubclass(Data_Engineer, Data_Professional))"
   ]
  },
  {
   "cell_type": "code",
   "execution_count": 16,
   "id": "8d15c043",
   "metadata": {},
   "outputs": [
    {
     "name": "stdout",
     "output_type": "stream",
     "text": [
      "False\n"
     ]
    }
   ],
   "source": [
    "print(issubclass(Data_Scientist,Data_Analyst))"
   ]
  },
  {
   "cell_type": "code",
   "execution_count": 17,
   "id": "513f53c9",
   "metadata": {},
   "outputs": [
    {
     "name": "stdout",
     "output_type": "stream",
     "text": [
      "False\n"
     ]
    }
   ],
   "source": [
    "print(issubclass(Data_Professional, Data_Scientist))"
   ]
  },
  {
   "cell_type": "markdown",
   "id": "3e27cdda",
   "metadata": {},
   "source": [
    "`isinstance()` Method\n",
    "The builtin function isinstance(object, class) asks whether an object is an instance of a class."
   ]
  },
  {
   "cell_type": "code",
   "execution_count": 18,
   "id": "c5763d0a",
   "metadata": {},
   "outputs": [
    {
     "name": "stdout",
     "output_type": "stream",
     "text": [
      "True\n"
     ]
    }
   ],
   "source": [
    "print(isinstance(dt_sci,Data_Scientist))"
   ]
  },
  {
   "cell_type": "code",
   "execution_count": 19,
   "id": "41ba298b",
   "metadata": {},
   "outputs": [
    {
     "name": "stdout",
     "output_type": "stream",
     "text": [
      "False\n"
     ]
    }
   ],
   "source": [
    "print(isinstance(dt_en, Data_Analyst))"
   ]
  }
 ],
 "metadata": {
  "kernelspec": {
   "display_name": "Python 3 (ipykernel)",
   "language": "python",
   "name": "python3"
  },
  "language_info": {
   "codemirror_mode": {
    "name": "ipython",
    "version": 3
   },
   "file_extension": ".py",
   "mimetype": "text/x-python",
   "name": "python",
   "nbconvert_exporter": "python",
   "pygments_lexer": "ipython3",
   "version": "3.9.13"
  }
 },
 "nbformat": 4,
 "nbformat_minor": 5
}
